{
  "cells": [
    {
      "cell_type": "markdown",
      "source": [
        "#Coding the Likelihood Function\n",
        "\n",
        "\n",
        "\n",
        "*   Conditional Likelihood\n",
        "*   Unconditional Likelihood\n",
        "\n"
      ],
      "metadata": {
        "id": "Bhmclb0JVJyH"
      }
    },
    {
      "cell_type": "code",
      "execution_count": null,
      "metadata": {
        "colab": {
          "base_uri": "https://localhost:8080/"
        },
        "id": "auh_62106psV",
        "outputId": "0f54a2d6-a63c-43de-8dbe-0c635dd7dd56"
      },
      "outputs": [
        {
          "output_type": "stream",
          "name": "stdout",
          "text": [
            "Conditional Log Likelihood: -155.24845520747374\n",
            "Unconditional Log Likelihood: -132.22901613926624\n"
          ]
        }
      ],
      "source": [
        "import numpy as np\n",
        "from scipy.stats import norm\n",
        "\n",
        "def ar7_conditional_likelihood(params, data):\n",
        "    \"\"\"\n",
        "    Calculate the conditional likelihood of an AR(7) model.\n",
        "\n",
        "    Parameters:\n",
        "        params (list): Parameters [phi1, phi2, ..., phi7, sigma^2].\n",
        "        data (array): Array of observed data.\n",
        "\n",
        "    Returns:\n",
        "        float: Log likelihood value.\n",
        "    \"\"\"\n",
        "    phi = params[:-1]\n",
        "    sigma_squared = params[-1]\n",
        "    n = len(data)\n",
        "    ll = 0\n",
        "\n",
        "    # First 7 observations are given, likelihood starts from the 8th observation\n",
        "    for t in range(7, n):\n",
        "        # Calculate mean based on past 7 observations\n",
        "        mean = np.dot(phi, data[t-7:t][::-1])\n",
        "        # Calculate log likelihood contribution of current observation\n",
        "        ll += norm.logpdf(data[t], loc=mean, scale=np.sqrt(sigma_squared))\n",
        "\n",
        "    return ll\n",
        "\n",
        "def ar7_unconditional_likelihood(params, data):\n",
        "    \"\"\"\n",
        "    Calculate the unconditional likelihood of an AR(7) model.\n",
        "\n",
        "    Parameters:\n",
        "        params (list): Parameters [phi1, phi2, ..., phi7, sigma^2].\n",
        "        data (array): Array of observed data.\n",
        "\n",
        "    Returns:\n",
        "        float: Log likelihood value.\n",
        "    \"\"\"\n",
        "    phi = params[:-1]\n",
        "    sigma_squared = params[-1]\n",
        "    n = len(data)\n",
        "    ll = 0\n",
        "\n",
        "    # Calculate the unconditional mean of the AR(7) process\n",
        "    mu = np.dot(phi, data[:7][::-1])\n",
        "\n",
        "    # Calculate log likelihood for each observation using unconditional mean\n",
        "    for t in range(n):\n",
        "        ll += norm.logpdf(data[t], loc=mu, scale=np.sqrt(sigma_squared))\n",
        "\n",
        "    return ll\n",
        "\n",
        "# Example usage:\n",
        "# Define some sample data and initial parameters\n",
        "data = np.random.normal(size=100)  # Sample data\n",
        "initial_params = [0.5, -0.2, 0.3, -0.1, 0.2, -0.4, 0.1, 1.0]  # Initial parameters\n",
        "\n",
        "# Calculate conditional likelihood\n",
        "conditional_ll = ar7_conditional_likelihood(initial_params, data)\n",
        "print(\"Conditional Log Likelihood:\", conditional_ll)\n",
        "\n",
        "# Calculate unconditional likelihood\n",
        "unconditional_ll = ar7_unconditional_likelihood(initial_params, data)\n",
        "print(\"Unconditional Log Likelihood:\", unconditional_ll)\n"
      ]
    },
    {
      "cell_type": "markdown",
      "source": [
        "**Conditional Log Likelihood: -155.24845520747374**\n",
        "\n",
        "The conditional log likelihood (-155.24845520747374) is calculated based on the assumption that the model's predictions are conditioned on the previous 7 observations.\n",
        "This means that for each data point beyond the 7th observation, the model's prediction is based on the previous 7 observations.\n",
        "A higher conditional log likelihood indicates that the model's predictions align well with the observed data given this conditioning.\n",
        "The conditional log likelihood value suggests that the AR(7) model, with the provided initial parameters, provides a reasonable fit to the observed data when conditioning on the previous 7 observations.\n",
        "\n",
        "**Unconditional Log Likelihood: -132.22901613926624**\n",
        "The unconditional log likelihood (-132.22901613926624) is calculated assuming that the model's predictions are based on a constant unconditional mean computed from the first 7 observations. This means that the model's predictions are not conditioned on any specific past observations beyond the first 7. A higher unconditional log likelihood indicates that the model's predictions provide a good fit to the entire dataset, without conditioning on specific past observations.The unconditional log likelihood value suggests that the AR(7) model, with the provided initial parameters, also provides a reasonable fit to the observed data when assuming a constant unconditional mean."
      ],
      "metadata": {
        "id": "V4bk9L1MfzGS"
      }
    },
    {
      "cell_type": "markdown",
      "source": [
        "#Maximizing the Likelihood\n",
        "\n"
      ],
      "metadata": {
        "id": "Ok1p8DyEVb5i"
      }
    },
    {
      "cell_type": "code",
      "execution_count": null,
      "metadata": {
        "colab": {
          "base_uri": "https://localhost:8080/"
        },
        "id": "Cqwntpx-66iM",
        "outputId": "cd26ff42-f6f6-431e-8fcc-0795b1f121f4"
      },
      "outputs": [
        {
          "output_type": "stream",
          "name": "stdout",
          "text": [
            "Maximized Conditional Likelihood Parameters: [ 0.07306005 -0.0252478   0.02007128 -0.12153876  0.07980201 -0.05816385\n",
            " -0.09271792  0.94545767]\n",
            "Maximized Unconditional Likelihood Parameters: [-0.10258685 -0.2644132   0.42631916 -0.13179205  0.20967231 -0.40713626\n",
            "  0.09187048  0.95030504]\n"
          ]
        }
      ],
      "source": [
        "from scipy.optimize import minimize\n",
        "\n",
        "# Define negative log likelihood functions (to be minimized)\n",
        "def neg_log_likelihood_conditional(params, data):\n",
        "    return -ar7_conditional_likelihood(params, data)\n",
        "\n",
        "def neg_log_likelihood_unconditional(params, data):\n",
        "    return -ar7_unconditional_likelihood(params, data)\n",
        "\n",
        "# Example usage:\n",
        "# Define some sample data\n",
        "data = np.random.normal(size=100)  # Sample data\n",
        "\n",
        "# Initial parameter guess\n",
        "initial_params = [0.5, -0.2, 0.3, -0.1, 0.2, -0.4, 0.1, 1.0]\n",
        "\n",
        "# Maximize conditional likelihood\n",
        "result_conditional = minimize(neg_log_likelihood_conditional, initial_params, args=(data,), method='Nelder-Mead')\n",
        "print(\"Maximized Conditional Likelihood Parameters:\", result_conditional.x)\n",
        "\n",
        "# Maximize unconditional likelihood\n",
        "result_unconditional = minimize(neg_log_likelihood_unconditional, initial_params, args=(data,), method='Nelder-Mead')\n",
        "print(\"Maximized Unconditional Likelihood Parameters:\", result_unconditional.x)\n"
      ]
    },
    {
      "cell_type": "markdown",
      "source": [
        "**Maximized Conditional Likelihood Parameters:**\n",
        "\n",
        "\n",
        "*   The parameters [ 0.07306005, -0.0252478, 0.02007128, -0.12153876, 0.07980201, -0.05816385, -0.09271792, 0.94545767] are the estimates that maximize the conditional likelihood function.\n",
        "\n",
        "\n",
        "*   These parameters are obtained by minimizing the negative log likelihood of the conditional likelihood function using the Nelder-Mead optimization method.\n",
        "*   They represent the coefficients (phi) and the variance (sigma^2) of the AR(7) model that best fit the observed data when conditioned on the previous 7 observations.\n",
        "\n",
        "\n",
        "Maximized Unconditional Likelihood Parameters: **bold text**\n",
        "\n",
        "\n",
        "*   The parameters [-0.10258685, -0.2644132, 0.42631916, -0.13179205, 0.20967231, -0.40713626, 0.09187048, 0.95030504] are the estimates that maximize the unconditional likelihood function.\n",
        "*   These parameters are obtained by minimizing the negative log likelihood of the unconditional likelihood function using the Nelder-Mead optimization method.\n",
        "\n",
        "*   They represent the coefficients (phi) and the variance (sigma^2) of the AR(7) model that best fit the observed data without conditioning on specific past observations."
      ],
      "metadata": {
        "id": "1amd8fsTgxUy"
      }
    },
    {
      "cell_type": "markdown",
      "source": [
        "#Parameter Estimation"
      ],
      "metadata": {
        "id": "QVjyR3C_Vi4J"
      }
    },
    {
      "cell_type": "code",
      "execution_count": null,
      "metadata": {
        "colab": {
          "base_uri": "https://localhost:8080/"
        },
        "id": "2OvKuQ8S7I6v",
        "outputId": "8651cd77-9991-40d5-fd4e-bfc6c9167dd8"
      },
      "outputs": [
        {
          "output_type": "stream",
          "name": "stdout",
          "text": [
            "Maximized Conditional Likelihood Parameters: [-1.05849043e+50  1.06746350e+49 -1.73462824e+49  2.64622188e+49\n",
            "  2.68764340e+49 -4.69880006e+49 -3.21491762e+49  6.97645179e+50]\n",
            "Maximized Unconditional Likelihood Parameters: [-1.05849043e+50  1.06746350e+49 -1.73462824e+49  2.64622188e+49\n",
            "  2.68764340e+49 -4.69880006e+49 -3.21491762e+49  6.97645179e+50]\n"
          ]
        }
      ],
      "source": [
        "import numpy as np\n",
        "import pandas as pd\n",
        "from scipy.optimize import minimize\n",
        "\n",
        "# Step 1: Data Preprocessing\n",
        "# Load FRED-MD dataset\n",
        "data = pd.read_csv('/content/current.csv')  # Replace 'path_to_your_dataset.csv' with the actual path\n",
        "\n",
        "# Assuming 'INDPRO' is the column name for the INDPRO variable\n",
        "indpro = data['INDPRO']\n",
        "\n",
        "# Calculate monthly log differences\n",
        "log_diff_indpro = np.log(indpro).diff().dropna()\n",
        "\n",
        "# Step 2: Likelihood Functions\n",
        "def ar7_conditional_likelihood(params, data):\n",
        "    phi, sigma_sq = params[:7], params[7]\n",
        "    n = len(data)\n",
        "    ll = 0\n",
        "    for t in range(7, n):\n",
        "        yt = data[t]\n",
        "        mu_t = np.dot(phi, data[t-7:t][::-1])  # Reverse the order to align with AR(7) formula\n",
        "        ll += -0.5 * (np.log(2 * np.pi * sigma_sq) + (yt - mu_t)**2 / sigma_sq)\n",
        "    return ll\n",
        "\n",
        "def ar7_unconditional_likelihood(params, data):\n",
        "    phi, sigma_sq = params[:7], params[7]\n",
        "    n = len(data)\n",
        "    mu0 = np.mean(data[:7])  # Initial mean\n",
        "    ll = -0.5 * (7 * np.log(2 * np.pi * sigma_sq) + np.sum((data[:7] - mu0)**2) / sigma_sq)\n",
        "    for t in range(7, n):\n",
        "        yt = data[t]\n",
        "        mu_t = np.dot(phi, data[t-7:t][::-1])  # Reverse the order to align with AR(7) formula\n",
        "        ll += -0.5 * (np.log(2 * np.pi * sigma_sq) + (yt - mu_t)**2 / sigma_sq)\n",
        "    return ll\n",
        "\n",
        "# Step 3: Parameter Estimation\n",
        "# Initial parameter guess\n",
        "initial_params = np.array([0.5, -0.2, 0.3, -0.1, 0.2, -0.4, 0.1, 1.0])\n",
        "\n",
        "# Maximize conditional likelihood\n",
        "result_conditional = minimize(ar7_conditional_likelihood, initial_params, args=(log_diff_indpro,), method='Nelder-Mead')\n",
        "print(\"Maximized Conditional Likelihood Parameters:\", result_conditional.x)\n",
        "\n",
        "# Maximize unconditional likelihood\n",
        "result_unconditional = minimize(ar7_unconditional_likelihood, initial_params, args=(log_diff_indpro,), method='Nelder-Mead')\n",
        "print(\"Maximized Unconditional Likelihood Parameters:\", result_unconditional.x)\n"
      ]
    },
    {
      "cell_type": "markdown",
      "source": [
        "The extremely large values obtained for the parameter estimates in both the conditional and unconditional likelihood maximizations suggest that the optimization process did not converge to meaningful solutions."
      ],
      "metadata": {
        "id": "Sag3-JrriG7v"
      }
    },
    {
      "cell_type": "markdown",
      "source": [
        "#Forecasting"
      ],
      "metadata": {
        "id": "XK2vo70kV-Fh"
      }
    },
    {
      "cell_type": "code",
      "execution_count": null,
      "metadata": {
        "colab": {
          "base_uri": "https://localhost:8080/"
        },
        "id": "zvnvxdn9ONpu",
        "outputId": "0a6ee0a9-019b-46f2-e8a1-4aeda18fe28e"
      },
      "outputs": [
        {
          "output_type": "stream",
          "name": "stdout",
          "text": [
            "Conditional Forecast: [-4.85355126e+050  1.56037675e+100 -5.01648269e+149  1.61275786e+199\n",
            " -5.18488365e+248  1.66689738e+298             -inf              nan]\n",
            "Unconditional Forecast: [-7.80827157e+050  2.51029498e+100 -8.07039157e+149  2.59456440e+199\n",
            " -8.34131081e+248  2.68166271e+298             -inf              nan]\n"
          ]
        }
      ],
      "source": [
        "import numpy as np\n",
        "\n",
        "# Function to forecast future values\n",
        "def forecast_ar7(params, data, steps):\n",
        "    # Extract parameters\n",
        "    phi = params[:7]\n",
        "    sigma = params[7]\n",
        "\n",
        "    # Initialize forecast array with observed data\n",
        "    forecast = np.copy(data)\n",
        "\n",
        "    # Forecast future values\n",
        "    for i in range(steps):\n",
        "        forecast_next = np.dot(phi, forecast[-7:]) + np.random.normal(0, sigma)\n",
        "        forecast = np.append(forecast, forecast_next)\n",
        "\n",
        "    return forecast\n",
        "\n",
        "# Forecast using conditional likelihood parameters\n",
        "conditional_forecast = forecast_ar7(result_conditional.x, log_diff_indpro, 8)\n",
        "print(\"Conditional Forecast:\", conditional_forecast[-8:])\n",
        "\n",
        "# Forecast using unconditional likelihood parameters\n",
        "unconditional_forecast = forecast_ar7(result_unconditional.x, log_diff_indpro, 8)\n",
        "print(\"Unconditional Forecast:\", unconditional_forecast[-8:])\n"
      ]
    },
    {
      "cell_type": "markdown",
      "source": [
        "The forecasted values obtained from both the conditional and unconditional AR(7) models exhibit extremely large and divergent values, as well as non-finite values such as inf and nan. This indicates that the forecasting process did not produce meaningful results."
      ],
      "metadata": {
        "id": "GdhtuqsticNc"
      }
    }
  ],
  "metadata": {
    "colab": {
      "provenance": []
    },
    "kernelspec": {
      "display_name": "Python 3",
      "name": "python3"
    },
    "language_info": {
      "name": "python"
    }
  },
  "nbformat": 4,
  "nbformat_minor": 0
}